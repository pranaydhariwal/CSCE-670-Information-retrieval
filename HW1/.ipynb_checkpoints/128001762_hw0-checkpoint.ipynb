{
 "cells": [
  {
   "cell_type": "markdown",
   "metadata": {},
   "source": [
    "#### CSCE 670 :: Information Storage and Retrieval :: Texas A&M University :: Spring 2019\n",
    "\n",
    "\n",
    "# Homework 0: Starting Point\n",
    "\n",
    "### 100 points [2% of your final grade]\n",
    "\n",
    "- **Due Sunday, January 20 by 11:59pm**\n",
    "\n",
    "*Goals of this homework:* The objective of this homework is to help you prepare your development environment. You will get familiar with Python in a Jupyter notebook, and then do some beginning exercises.\n",
    "\n",
    "*Submission instructions (eCampus):* To submit your homework, rename this notebook as `UIN_hw0.ipynb`. For example, my homework submission would be something like `555001234_hw0.ipynb`. Submit this notebook via eCampus (look for the homework 0 assignment there). Your notebook should be completely self-contained, with the results visible in the notebook. We should not have to run any code from the command line, nor should we have to run your code within the notebook (though we reserve the right to do so). So please run all the cells for us, and then submit. \n",
    "\n",
    "*Late policy:* For this homework, no late submissions will be accepted. "
   ]
  },
  {
   "cell_type": "markdown",
   "metadata": {},
   "source": [
    "## Jupyter, Python, and our Expectations\n",
    "\n",
    "This homework, all subsequent homeworks, and your project will use iPython in a Jupyter notebook. iPython is just an interactive shell for programming in the Python language. A few years ago, the developers created a generic interactive shell called Jupyter that supports languages beyond just Python. This can be a bit confusing, and we'll add a bit to the confusion by referring to iPython and Jupyter interchangeably in this course.\n",
    "\n",
    "With respect to Python, we do not expect you to have any prior experience. We do, however, expect you to have proficiency in some programming language (so you've seen loops, conditionals, functions, etc.) and a willingness to experiment and learn on your own. Python is a fun language and you should be able to pick up the necessary portions as we move along; however, this may require you to spend some extra cycles consulting online documentation, referring to a Python book, or scouring over StackOverflow. \n",
    "\n",
    "A few basic Python pointers:\n",
    "* http://introtopython.org\n",
    "* https://docs.python.org/3/tutorial/\n",
    "* http://mbakker7.github.io/exploratory_computing_with_python/ [particularly the basic Python language ones]\n",
    "\n",
    "\n",
    "We expect your code to be well-documented with appropriate comments. We prefer meaningful variable names and function names. We also expect your code to be compact and sensible -- no super-long lines, nor dense unintelligible lines of code.\n",
    "\n",
    "In general, Python code is often run from standalone Python modules or files; for this class, we will often run Python from here within the Jupyter notebook.\n",
    "\n",
    "Now that you're ready, let's take a look at this Jupyter notebook. You'll notice that it is composed of cells. Some cells have text (like this one), while others contain code and comments. This cell is written in **Markdown** a simple text-to-HTML language. You can find a cheat sheet for Markdown here: https://github.com/adam-p/markdown-here/wiki/Markdown-Cheatsheet. You can toggle a cell between Markdown and code with the toggle button up there on the menu bar.\n",
    "\n",
    "The cell below contains code and can be **executed** by hitting the **Run** button on the menu bar or by hitting **shift + enter**."
   ]
  },
  {
   "cell_type": "code",
   "execution_count": 2,
   "metadata": {},
   "outputs": [
    {
     "name": "stdout",
     "output_type": "stream",
     "text": [
      "Hello world!\n"
     ]
    }
   ],
   "source": [
    "# this is a comment\n",
    "# you can execute this cell by hitting shift+enter\n",
    "# the output will appear immediately below\n",
    "print('Hello world!')"
   ]
  },
  {
   "cell_type": "markdown",
   "metadata": {},
   "source": [
    "Since Jupyter is just an interactive shell around Python, you can define functions. For example:"
   ]
  },
  {
   "cell_type": "code",
   "execution_count": 3,
   "metadata": {},
   "outputs": [
    {
     "data": {
      "text/plain": [
       "27"
      ]
     },
     "execution_count": 3,
     "metadata": {},
     "output_type": "execute_result"
    }
   ],
   "source": [
    "def cubed(x):\n",
    "    \"\"\" Return the cube of a  \n",
    "        value \"\"\"\n",
    "    return x ** 3\n",
    "\n",
    "cubed(3)"
   ]
  },
  {
   "cell_type": "markdown",
   "metadata": {},
   "source": [
    "You can even access the filesystem with commands like `ls` or `pwd`"
   ]
  },
  {
   "cell_type": "markdown",
   "metadata": {},
   "source": [
    "## Getting Started with Numpy and matplotlib\n",
    "\n",
    "In this part, we're going to get familiar with two important libraries -- Numpy and matplotlib.\n",
    "\n",
    "### Into to Numpy\n",
    "Since Python is an interpreted language, it might not seem like the best choice for data-intensive work. Luckily, almost all of our data workflow stack is built on top of Numpy, a Python library that adds support for large, multi-dimensional arrays and matrices, along with a large library of high-level mathematical functions to operate on these arrays."
   ]
  },
  {
   "cell_type": "code",
   "execution_count": 3,
   "metadata": {},
   "outputs": [
    {
     "name": "stdout",
     "output_type": "stream",
     "text": [
      "Make a 4 row x 2 column matrix of random numbers\n",
      "[[0.21062266 0.29757069]\n",
      " [0.10016177 0.82847219]\n",
      " [0.78261224 0.00807939]\n",
      " [0.10487808 0.63403046]]\n",
      "\n",
      "Add 10 to every element\n",
      "[[10.21062266 10.29757069]\n",
      " [10.10016177 10.82847219]\n",
      " [10.78261224 10.00807939]\n",
      " [10.10487808 10.63403046]]\n",
      "\n",
      "Get the element at row 3, column 1\n",
      "10.634030456852134\n",
      "\n",
      "Get the first row\n",
      "[10.21062266 10.29757069]\n",
      "\n"
     ]
    }
   ],
   "source": [
    "import numpy as np\n",
    "\n",
    "print(\"Make a 4 row x 2 column matrix of random numbers\")\n",
    "x = np.random.random((4, 2))\n",
    "print(x)\n",
    "print()\n",
    "\n",
    "print(\"Add 10 to every element\")\n",
    "x = x + 10\n",
    "print(x)\n",
    "print()\n",
    "\n",
    "print(\"Get the element at row 3, column 1\")\n",
    "print(x[3, 1])\n",
    "print()\n",
    "\n",
    "print(\"Get the first row\")\n",
    "print(x[0, :])\n",
    "print()"
   ]
  },
  {
   "cell_type": "markdown",
   "metadata": {},
   "source": [
    "Now, it's your turn. Find the **maximum**, **minimum**, and **mean** of the array `x` you just created. This does not require writing a loop. In the code cell below, type `x.m`+`<TAB>`, to find built-in operations that may help you out."
   ]
  },
  {
   "cell_type": "code",
   "execution_count": 6,
   "metadata": {},
   "outputs": [
    {
     "name": "stdout",
     "output_type": "stream",
     "text": [
      "Maximum:\n",
      "10.828472190821193\n",
      "Minimum:\n",
      "10.00807938742421\n",
      "Mean:\n",
      "10.370803434034425\n"
     ]
    }
   ],
   "source": [
    "print(\"Maximum:\")\n",
    "# please find and print the maximum of the array\n",
    "# your code here\n",
    "print(x.max())\n",
    "\n",
    "print(\"Minimum:\")\n",
    "# please find and print the minimum of the array\n",
    "# your code here\n",
    "print(x.min())\n",
    "\n",
    "print(\"Mean:\")\n",
    "# please find and print the mean of the array\n",
    "# your code here\n",
    "print(x.mean())"
   ]
  },
  {
   "cell_type": "markdown",
   "metadata": {},
   "source": [
    "That wasy easy! Now, let's see if you can generate 500 numbers from a uniform distribution between 0 and 50,000, inclusive. That is each random number could be 0, 1, 2, ..., 50,000 with equal chance. Please show us the **maximum**, **minimum**, and **mean** of these 500 random numbers. Hint: you can take a look at `np.random`. "
   ]
  },
  {
   "cell_type": "code",
   "execution_count": 6,
   "metadata": {},
   "outputs": [
    {
     "name": "stdout",
     "output_type": "stream",
     "text": [
      "Maximum:\n",
      "49906\n",
      "Minimum:\n",
      "99\n",
      "Mean:\n",
      "25085.75\n"
     ]
    }
   ],
   "source": [
    "# your code here\n",
    "import numpy as np\n",
    "x = np.random.randint(1,50000,size=500)\n",
    "print(\"Maximum:\")\n",
    "# please find and print the maximum of the array\n",
    "# your code here\n",
    "print(x.max())\n",
    "\n",
    "print(\"Minimum:\")\n",
    "# please find and print the minimum of the array\n",
    "# your code here\n",
    "print(x.min())\n",
    "\n",
    "print(\"Mean:\")\n",
    "# please find and print the mean of the array\n",
    "# your code here\n",
    "print(x.mean())"
   ]
  },
  {
   "cell_type": "markdown",
   "metadata": {},
   "source": [
    "### Intro to matplotlib\n",
    "The most widespread Python plotting library is matplotlib. With it, you can create graphs, charts, basic maps, and other data visualizations. Later in the semester, we'll sometimes use `seaborn`, a library built on top of matplotlib that provides even more beautiful charts.\n",
    "\n",
    "Below, we provide some simple x and y coordinates that are then plotted. You should update the plot to include:\n",
    "* a label for the x-axis (call it 'widgets')\n",
    "* a label for the y-axis (call it 'price')\n",
    "* a label for the x, y1 curve (call it 'Alice')\n",
    "* a label for the x, y2 curve (call it 'Bob')\n",
    "* a legend in the lower right corner"
   ]
  },
  {
   "cell_type": "code",
   "execution_count": 22,
   "metadata": {},
   "outputs": [
    {
     "data": {
      "text/plain": [
       "<matplotlib.legend.Legend at 0x7fa1d7a8bf60>"
      ]
     },
     "execution_count": 22,
     "metadata": {},
     "output_type": "execute_result"
    },
    {
     "data": {
      "image/png": "[encoded data removed]",
      "text/plain": [
       "<Figure size 432x288 with 1 Axes>"
      ]
     },
     "metadata": {
      "needs_background": "light"
     },
     "output_type": "display_data"
    }
   ],
   "source": [
    "# this line prepares IPython for working with matplotlib\n",
    "%matplotlib inline  \n",
    "\n",
    "import matplotlib.pyplot as plt  \n",
    "\n",
    "x = [0, 1, 2, 3, 4]  \n",
    "y1 = [10, 12, 10, 10, 12]\n",
    "y2 = [8, 9, 9, 11, 12]\n",
    "plt.plot(x, y1)\n",
    "plt.plot(x, y2) \n",
    "plt.xlabel('widgets')\n",
    "plt.ylabel('price')\n",
    "plt.legend(['Alice','Bob'], loc=4)\n",
    "# your code here (plus you may need to modify the previous two lines)"
   ]
  },
  {
   "cell_type": "markdown",
   "metadata": {},
   "source": [
    "## Getting started with File Input & Output\n",
    "\n",
    "Python can easily handle reading and writing files. As far as Python is concerned, a file is just a string (often very large!) stored on your local file system, that you can read or write, gradually or all together.\n",
    "\n",
    "### Writing Files\n",
    "\n",
    "*open()* returns a file object, and is most commonly used with two arguments: *open(filename, mode)*."
   ]
  },
  {
   "cell_type": "code",
   "execution_count": 12,
   "metadata": {},
   "outputs": [],
   "source": [
    "outFile = open('sample.txt', 'w')\n",
    "outFile.write('The first line\\nThe second line\\nThe third line\\n')\n",
    "outFile.close()"
   ]
  },
  {
   "cell_type": "markdown",
   "metadata": {},
   "source": [
    "The first line creates a file object, which links Python to your computer’s file system. The first parameter in the file constructor gives the file name, *sample.txt*. The second parameter indicates how you use the file. The 'w' is short for **w**rite. If the file already existed, the old contents are destroyed.\n",
    "\n",
    "And 'a' opens the file for **a**ppending; any data written to the file is automatically added to the end. 'r+' opens the file for both reading and writing.\n",
    "\n",
    "The *close* line is essential for Python to make sure everything is really written, and to relinquish control of the file."
   ]
  },
  {
   "cell_type": "markdown",
   "metadata": {},
   "source": [
    "### Methods of File Objects\n",
    "\n",
    "To read a file’s contents, call *f.read(size)*, which reads some quantity of data and returns it as a string. *size* is an optional numeric argument. When *size* is omitted or negative, the entire contents of the file will be read and returned."
   ]
  },
  {
   "cell_type": "code",
   "execution_count": 23,
   "metadata": {},
   "outputs": [
    {
     "data": {
      "text/plain": [
       "'The first line\\nThe second line\\nThe third line\\n'"
      ]
     },
     "execution_count": 23,
     "metadata": {},
     "output_type": "execute_result"
    }
   ],
   "source": [
    "outFile = open('sample.txt', 'r')\n",
    "outFile.read()"
   ]
  },
  {
   "cell_type": "markdown",
   "metadata": {},
   "source": [
    "For reading lines from a file, you can loop over the file object. This is memory efficient, fast, and leads to simple code:"
   ]
  },
  {
   "cell_type": "code",
   "execution_count": 24,
   "metadata": {},
   "outputs": [
    {
     "name": "stdout",
     "output_type": "stream",
     "text": [
      "The first line\n",
      "\n",
      "The second line\n",
      "\n",
      "The third line\n",
      "\n"
     ]
    }
   ],
   "source": [
    "outFile = open('sample.txt', 'r')\n",
    "for line in outFile:\n",
    "    print(line)"
   ]
  },
  {
   "cell_type": "markdown",
   "metadata": {},
   "source": [
    "It is good practice to use the *with* keyword when dealing with file objects. This has the advantage that the file is properly closed after its suite finishes, even if an exception is raised on the way. It is also much shorter than writing equivalent try-finally blocks:"
   ]
  },
  {
   "cell_type": "code",
   "execution_count": 25,
   "metadata": {},
   "outputs": [
    {
     "data": {
      "text/plain": [
       "'The first line\\nThe second line\\nThe third line\\n'"
      ]
     },
     "execution_count": 25,
     "metadata": {},
     "output_type": "execute_result"
    }
   ],
   "source": [
    "with open('sample.txt', 'r') as f:\n",
    "    outFile = f.read()\n",
    "outFile"
   ]
  },
  {
   "cell_type": "code",
   "execution_count": 26,
   "metadata": {},
   "outputs": [
    {
     "data": {
      "text/plain": [
       "True"
      ]
     },
     "execution_count": 26,
     "metadata": {},
     "output_type": "execute_result"
    }
   ],
   "source": [
    "f.closed"
   ]
  },
  {
   "cell_type": "code",
   "execution_count": 27,
   "metadata": {},
   "outputs": [],
   "source": [
    "with open('sample.txt', 'a') as f:\n",
    "    f.write('The fourth line\\n')"
   ]
  },
  {
   "cell_type": "code",
   "execution_count": 28,
   "metadata": {},
   "outputs": [
    {
     "name": "stdout",
     "output_type": "stream",
     "text": [
      "['The first line\\n', 'The second line\\n', 'The third line\\n', 'The fourth line\\n']\n"
     ]
    }
   ],
   "source": [
    "with open('sample.txt', 'r') as f:\n",
    "    print(f.readlines())  # readlines – reads the entire file and returns it as a list of strings"
   ]
  },
  {
   "cell_type": "markdown",
   "metadata": {},
   "source": [
    "### Open a Remote File via URL\n",
    "\n",
    "Python can easily access the content of a webpage via its URL, and print out locally line-by-line without saving a local copy of the file. "
   ]
  },
  {
   "cell_type": "code",
   "execution_count": 8,
   "metadata": {
    "scrolled": false
   },
   "outputs": [
    {
     "name": "stdout",
     "output_type": "stream",
     "text": [
      "<html><head> <TITLE>CSCE 670 :: Information Storage and Retrieval :: Spring\n",
      "2019</TITLE> </head>\n",
      "\n",
      "<body bgcolor=white text=black link=blue vlink=blue alink=blue>\n",
      "\n",
      "\n",
      "<h1> CSCE 670 :: Information Storage and Retrieval :: Spring 2019 </h1> \n",
      "\n",
      "<p><a href=\"index.html\">Back to main page</a> \n",
      "\n",
      "<H3><A NAME = \"project-overview\">Project Overview</a></H3> \n",
      "\n",
      "<p>For the project, you will work in teams of three or four on a problem of \n",
      "your choosing that is interesting, significant, and relevant to this course. You have great latitude in what you work on, so make it count! We will hold a project showcase during the final week of class. Note that your code must live on github.\n",
      "\n",
      "\n",
      "<hr>\n",
      "<h4>Grading Criteria</h4> \n",
      "<p>The course project counts for 20% of your final grade. You will receive an overall rating based on the performance of your entire team, as well as an individual rating based on the feedback of your teammate as well as contributions to the project github repo. Typically, the individual rating can bump or depress your project grade by some small delta (say moving a group rating of 85/100 plus or minus 5 points). Rarely, a project score may be depressed significantly if a group member makes only a superficial contribution to a project.\n",
      "\n",
      "Your project will be graded based on these key milestones:\n",
      " \n",
      "<ul>\n",
      "<li> [10%] Project proposal: Due March 24 (Sunday) by 11:59pm\n",
      "<li> [50%] Project showcase: in-class April 29 and 30\n",
      "<li> [40%] Project report: Due May 2 (Thursday) by 11:59pm\n",
      "</ul>\n",
      "\n",
      "Recall that your late days are applicable to homework assignments only. All project milestones are due on their respective due date. No late project milestones will be accepted.\n",
      "\n",
      "<hr>\n",
      "<h4>Project proposal</h4> \n",
      "<p>Each group should post a 1-2 page project proposal in PDF to the Piazza course discussion forum. Be sure to start a new thread for your proposal and name the thread \"Proposal: [project_name]\", where [project_name] is a brief, descriptive name of your project. Your name should be something memorable! \n",
      "<br/>\n",
      "\n",
      "\n",
      "A proposal should address the following issues:\n",
      "\n",
      "<ul>\n",
      "<li>What is your research question? Clearly define the research problem/question.\n",
      "<li>Why is this an interesting question to ask and why would we care about the answer to this question or a solution to the problem.\n",
      "<li>Has any existing research work tried to answer the same or a similar question, and if so, what is still unknown?\n",
      "<li>How do you plan to work out the answer to the question. (At the proposal stage, you are only expected to have a sketch of your methods.)\n",
      "<li>How would you evaluate your solution. That is, how do you plan to demonstrate that your solution/answer is good or is reasonable.\n",
      "<li>A rough timeline to show when you expect to finish what. List a couple of milestones.\n",
      "</ul>\n",
      "\n",
      "\n",
      "\n",
      "\n",
      "\n",
      "\n",
      "\n",
      "\n",
      "\n",
      "<hr>\n",
      "<h4>Project showcase</h4> \n",
      "Finally, we will host a project showcase during our last week of class. \n",
      "\n",
      "<p>On Monday, April 29 and Tuesday, April 30 we will hold an in-class POSTER SESSION. \n",
      "\n",
      "<p>All teams must create a poster. Your poster should be MAX 30 inches horizontal by 40 inches vertical. Your poster should be structured somewhat like your website -- that is, you should provide a motivation, your approach (technical details), what you learned, what is next. You can print your poster in the department. Please use <a href=\"https://engineering.tamu.edu/media/1381416/PlotterPrintingForm2014Editable.pdf\">this printer form</a> if you want me to pay for your poster. We will have posterboards and easels set up in the classroom.\n",
      "\n",
      "<p>Be sure to highlight the key technical innovations, findings, takeaways. Impress us! This is your chance.\n",
      "\n",
      "\n",
      "<hr>\n",
      "<h4>Project report</h4>\n",
      "Your team should write a brief project report (4-6 pages in ACM format) summarizing the project. Your report should be structured somewhat like your proposal, but with the actual things you have actually done:\n",
      "\n",
      "<ul>\n",
      "<li>Introduction / problem background / motivation -- what is the research question? Why is it important?\n",
      "<li>Related work -- what existing work is there? Include links. What is the difference with what you propose?\n",
      "<li>Proposed solution / methods used -- give us the technical details about what you have done.\n",
      "<li>Evaluation and analysis of results -- what did you discover? \n",
      "<li>Conclusions / discussion -- What was challenging about the project? What would you like to do next? What are the open issues?\n",
      "</ul>\n",
      "\n",
      "When you post your report to Piazza you should also include:\n",
      "\n",
      "<ul>\n",
      "<li>Link to your github repository.\n",
      "<li>The data you used (raw or possibly a link to a cloud storage provider).\n",
      "<li>Link to your poster (PDF or similar).\n",
      "</ul>\n",
      "\n",
      "\n",
      "<P> <BR> <BR>\n",
      "</body>\n",
      "</html>\n"
     ]
    }
   ],
   "source": [
    "import urllib  # the lib that handles the url stuff\n",
    "\n",
    "url = \"http://courses.cse.tamu.edu/caverlee/csce670/project.html\"\n",
    "\n",
    "fp = urllib.request.urlopen(url);\n",
    "mybytes = fp.read()\n",
    "\n",
    "mystr = mybytes.decode(\"utf8\")\n",
    "fp.close()\n",
    "\n",
    "print(mystr)\n",
    "#with urllib.request.urlopen(url) as url:\n",
    "#    s = url.read()\n",
    "#    print(s)\n",
    "# your code here: open the url. Hint: take a look at urllib2.urlopen\n",
    "# your code here: now print out each line"
   ]
  },
  {
   "cell_type": "markdown",
   "metadata": {},
   "source": [
    "## Counting Word Frequency\n",
    "\n",
    "One of the most fundamental tasks in information retrieval is to count the frequency of each word in a document.\n",
    "\n",
    "In the following example, we start with a string and split it into a list. We then create an (initially empty) list called *wordfreq*, go through each word in the *wordlist*, and count the number of times that word appears in the whole list. We then add each word’s count to our wordfreq list. Using the *zip* operation, we are able to match the first word of the word list with the first number in the frequency list, the second word and second frequency, and so on. We end up with a list of word and frequency pairs. The *str* function converts any object to a string so that it can be printed."
   ]
  },
  {
   "cell_type": "code",
   "execution_count": 9,
   "metadata": {},
   "outputs": [
    {
     "name": "stdout",
     "output_type": "stream",
     "text": [
      "String\n",
      "it was the best of times it was the worst of times it was the age of wisdom it was the age of foolishness\n",
      "\n",
      "List\n",
      "['it', 'was', 'the', 'best', 'of', 'times', 'it', 'was', 'the', 'worst', 'of', 'times', 'it', 'was', 'the', 'age', 'of', 'wisdom', 'it', 'was', 'the', 'age', 'of', 'foolishness']\n",
      "\n",
      "Frequencies\n",
      "[4, 4, 4, 1, 4, 2, 4, 4, 4, 1, 4, 2, 4, 4, 4, 2, 4, 1, 4, 4, 4, 2, 4, 1]\n",
      "\n",
      "Pairs\n",
      "{'it': 4, 'was': 4, 'the': 4, 'best': 1, 'of': 4, 'times': 2, 'worst': 1, 'age': 2, 'wisdom': 1, 'foolishness': 1}\n"
     ]
    }
   ],
   "source": [
    "wordstring = 'it was the best of times it was the worst of times '\n",
    "wordstring += 'it was the age of wisdom it was the age of foolishness'\n",
    "\n",
    "wordlist = wordstring.split()\n",
    "\n",
    "wordfreq = []\n",
    "for w in wordlist:\n",
    "    wordfreq.append(wordlist.count(w))\n",
    "\n",
    "print(\"String\\n\" + wordstring +\"\\n\")\n",
    "print(\"List\\n\" + str(wordlist) + \"\\n\")\n",
    "print(\"Frequencies\\n\" + str(wordfreq) + \"\\n\")\n",
    "print(\"Pairs\\n\" + str(dict(zip(wordlist, wordfreq))))\n",
    "#copy = sorted(copy, reverse=True)"
   ]
  },
  {
   "cell_type": "markdown",
   "metadata": {},
   "source": [
    "Now, your job is to open up the url we mentioned a few cells above. Then output the word-frequency pairs in that url, sorted in order of descending frequency. In the case of ours Dickens example here, the output would look something like: [('of', 4), ('it', 4), ('the', 4), ('was', 4), ('age', 2), ('times', 2), ('foolishness', 1), ('worst', 1), ('wisdom', 1), ('best', 1)].\n",
    "\n",
    "Your job is to output a the word-frequency pairs for the url."
   ]
  },
  {
   "cell_type": "code",
   "execution_count": 20,
   "metadata": {},
   "outputs": [
    {
     "data": {
      "text/plain": [
       "[('the', 26),\n",
       " ('to', 24),\n",
       " ('your', 22),\n",
       " ('a', 20),\n",
       " ('you', 18),\n",
       " ('is', 13),\n",
       " ('of', 12),\n",
       " ('project', 11),\n",
       " ('and', 10),\n",
       " ('what', 9),\n",
       " ('should', 9),\n",
       " ('will', 8),\n",
       " ('or', 8),\n",
       " ('be', 7),\n",
       " ('work', 6),\n",
       " ('in', 6),\n",
       " ('on', 6),\n",
       " ('Your', 6),\n",
       " ('--', 6),\n",
       " ('that', 5),\n",
       " ('have', 5),\n",
       " ('::', 4),\n",
       " ('<hr>', 4),\n",
       " ('an', 4),\n",
       " ('rating', 4),\n",
       " ('as', 4),\n",
       " ('by', 4),\n",
       " ('<ul>', 4),\n",
       " ('</ul>', 4),\n",
       " ('are', 4),\n",
       " ('proposal', 4),\n",
       " ('research', 4),\n",
       " ('poster', 4),\n",
       " ('/', 4),\n",
       " ('What', 4),\n",
       " ('this', 3),\n",
       " ('You', 3),\n",
       " ('for', 3),\n",
       " ('based', 3),\n",
       " ('group', 3),\n",
       " ('if', 3),\n",
       " ('project.', 3),\n",
       " ('<li>', 3),\n",
       " ('Project', 3),\n",
       " ('April', 3),\n",
       " ('30', 3),\n",
       " ('<h4>Project', 3),\n",
       " ('name', 3),\n",
       " ('would', 3),\n",
       " ('we', 3),\n",
       " ('about', 3),\n",
       " ('answer', 3),\n",
       " ('do', 3),\n",
       " ('like', 3),\n",
       " ('report', 3),\n",
       " ('670', 2),\n",
       " ('Information', 2),\n",
       " ('Storage', 2),\n",
       " ('Retrieval', 2),\n",
       " ('Spring', 2),\n",
       " ('teams', 2),\n",
       " ('problem', 2),\n",
       " ('it', 2),\n",
       " ('We', 2),\n",
       " ('hold', 2),\n",
       " ('showcase', 2),\n",
       " ('during', 2),\n",
       " ('final', 2),\n",
       " ('week', 2),\n",
       " ('class.', 2),\n",
       " ('must', 2),\n",
       " ('course', 2),\n",
       " ('well', 2),\n",
       " ('individual', 2),\n",
       " ('github', 2),\n",
       " ('can', 2),\n",
       " ('only', 2),\n",
       " ('key', 2),\n",
       " ('Due', 2),\n",
       " ('11:59pm', 2),\n",
       " ('in-class', 2),\n",
       " ('29', 2),\n",
       " ('late', 2),\n",
       " ('milestones', 2),\n",
       " ('due', 2),\n",
       " ('post', 2),\n",
       " ('Piazza', 2),\n",
       " ('discussion', 2),\n",
       " ('sure', 2),\n",
       " ('thread', 2),\n",
       " ('question?', 2),\n",
       " ('question', 2),\n",
       " ('solution', 2),\n",
       " ('existing', 2),\n",
       " ('<li>How', 2),\n",
       " ('plan', 2),\n",
       " ('is,', 2),\n",
       " ('poster.', 2),\n",
       " ('inches', 2),\n",
       " ('structured', 2),\n",
       " ('somewhat', 2),\n",
       " ('technical', 2),\n",
       " ('with', 2),\n",
       " ('used', 2),\n",
       " ('<li>Link', 2),\n",
       " ('<BR>', 2),\n",
       " ('<html><head>', 1),\n",
       " ('<TITLE>CSCE', 1),\n",
       " ('2019</TITLE>', 1),\n",
       " ('</head>', 1),\n",
       " ('<body', 1),\n",
       " ('bgcolor=white', 1),\n",
       " ('text=black', 1),\n",
       " ('link=blue', 1),\n",
       " ('vlink=blue', 1),\n",
       " ('alink=blue>', 1),\n",
       " ('<h1>', 1),\n",
       " ('CSCE', 1),\n",
       " ('2019', 1),\n",
       " ('</h1>', 1),\n",
       " ('<p><a', 1),\n",
       " ('href=\"index.html\">Back', 1),\n",
       " ('main', 1),\n",
       " ('page</a>', 1),\n",
       " ('<H3><A', 1),\n",
       " ('NAME', 1),\n",
       " ('=', 1),\n",
       " ('\"project-overview\">Project', 1),\n",
       " ('Overview</a></H3>', 1),\n",
       " ('<p>For', 1),\n",
       " ('project,', 1),\n",
       " ('three', 1),\n",
       " ('four', 1),\n",
       " ('choosing', 1),\n",
       " ('interesting,', 1),\n",
       " ('significant,', 1),\n",
       " ('relevant', 1),\n",
       " ('course.', 1),\n",
       " ('great', 1),\n",
       " ('latitude', 1),\n",
       " ('on,', 1),\n",
       " ('so', 1),\n",
       " ('make', 1),\n",
       " ('count!', 1),\n",
       " ('Note', 1),\n",
       " ('code', 1),\n",
       " ('live', 1),\n",
       " ('github.', 1),\n",
       " ('<h4>Grading', 1),\n",
       " ('Criteria</h4>', 1),\n",
       " ('<p>The', 1),\n",
       " ('counts', 1),\n",
       " ('20%', 1),\n",
       " ('grade.', 1),\n",
       " ('receive', 1),\n",
       " ('overall', 1),\n",
       " ('performance', 1),\n",
       " ('entire', 1),\n",
       " ('team,', 1),\n",
       " ('feedback', 1),\n",
       " ('teammate', 1),\n",
       " ('contributions', 1),\n",
       " ('repo.', 1),\n",
       " ('Typically,', 1),\n",
       " ('bump', 1),\n",
       " ('depress', 1),\n",
       " ('grade', 1),\n",
       " ('some', 1),\n",
       " ('small', 1),\n",
       " ('delta', 1),\n",
       " ('(say', 1),\n",
       " ('moving', 1),\n",
       " ('85/100', 1),\n",
       " ('plus', 1),\n",
       " ('minus', 1),\n",
       " ('5', 1),\n",
       " ('points).', 1),\n",
       " ('Rarely,', 1),\n",
       " ('score', 1),\n",
       " ('may', 1),\n",
       " ('depressed', 1),\n",
       " ('significantly', 1),\n",
       " ('member', 1),\n",
       " ('makes', 1),\n",
       " ('superficial', 1),\n",
       " ('contribution', 1),\n",
       " ('graded', 1),\n",
       " ('these', 1),\n",
       " ('milestones:', 1),\n",
       " ('[10%]', 1),\n",
       " ('proposal:', 1),\n",
       " ('March', 1),\n",
       " ('24', 1),\n",
       " ('(Sunday)', 1),\n",
       " ('[50%]', 1),\n",
       " ('showcase:', 1),\n",
       " ('[40%]', 1),\n",
       " ('report:', 1),\n",
       " ('May', 1),\n",
       " ('2', 1),\n",
       " ('(Thursday)', 1),\n",
       " ('Recall', 1),\n",
       " ('days', 1),\n",
       " ('applicable', 1),\n",
       " ('homework', 1),\n",
       " ('assignments', 1),\n",
       " ('only.', 1),\n",
       " ('All', 1),\n",
       " ('their', 1),\n",
       " ('respective', 1),\n",
       " ('date.', 1),\n",
       " ('No', 1),\n",
       " ('accepted.', 1),\n",
       " ('proposal</h4>', 1),\n",
       " ('<p>Each', 1),\n",
       " ('1-2', 1),\n",
       " ('page', 1),\n",
       " ('PDF', 1),\n",
       " ('forum.', 1),\n",
       " ('Be', 1),\n",
       " ('start', 1),\n",
       " ('new', 1),\n",
       " ('\"Proposal:', 1),\n",
       " ('[project_name]\",', 1),\n",
       " ('where', 1),\n",
       " ('[project_name]', 1),\n",
       " ('brief,', 1),\n",
       " ('descriptive', 1),\n",
       " ('something', 1),\n",
       " ('memorable!', 1),\n",
       " ('<br/>', 1),\n",
       " ('A', 1),\n",
       " ('address', 1),\n",
       " ('following', 1),\n",
       " ('issues:', 1),\n",
       " ('<li>What', 1),\n",
       " ('Clearly', 1),\n",
       " ('define', 1),\n",
       " ('problem/question.', 1),\n",
       " ('<li>Why', 1),\n",
       " ('interesting', 1),\n",
       " ('ask', 1),\n",
       " ('why', 1),\n",
       " ('care', 1),\n",
       " ('problem.', 1),\n",
       " ('<li>Has', 1),\n",
       " ('any', 1),\n",
       " ('tried', 1),\n",
       " ('same', 1),\n",
       " ('similar', 1),\n",
       " ('question,', 1),\n",
       " ('so,', 1),\n",
       " ('still', 1),\n",
       " ('unknown?', 1),\n",
       " ('out', 1),\n",
       " ('question.', 1),\n",
       " ('(At', 1),\n",
       " ('stage,', 1),\n",
       " ('expected', 1),\n",
       " ('sketch', 1),\n",
       " ('methods.)', 1),\n",
       " ('evaluate', 1),\n",
       " ('solution.', 1),\n",
       " ('That', 1),\n",
       " ('how', 1),\n",
       " ('demonstrate', 1),\n",
       " ('solution/answer', 1),\n",
       " ('good', 1),\n",
       " ('reasonable.', 1),\n",
       " ('<li>A', 1),\n",
       " ('rough', 1),\n",
       " ('timeline', 1),\n",
       " ('show', 1),\n",
       " ('when', 1),\n",
       " ('expect', 1),\n",
       " ('finish', 1),\n",
       " ('what.', 1),\n",
       " ('List', 1),\n",
       " ('couple', 1),\n",
       " ('milestones.', 1),\n",
       " ('showcase</h4>', 1),\n",
       " ('Finally,', 1),\n",
       " ('host', 1),\n",
       " ('our', 1),\n",
       " ('last', 1),\n",
       " ('<p>On', 1),\n",
       " ('Monday,', 1),\n",
       " ('Tuesday,', 1),\n",
       " ('POSTER', 1),\n",
       " ('SESSION.', 1),\n",
       " ('<p>All', 1),\n",
       " ('create', 1),\n",
       " ('MAX', 1),\n",
       " ('horizontal', 1),\n",
       " ('40', 1),\n",
       " ('vertical.', 1),\n",
       " ('website', 1),\n",
       " ('provide', 1),\n",
       " ('motivation,', 1),\n",
       " ('approach', 1),\n",
       " ('(technical', 1),\n",
       " ('details),', 1),\n",
       " ('learned,', 1),\n",
       " ('next.', 1),\n",
       " ('print', 1),\n",
       " ('department.', 1),\n",
       " ('Please', 1),\n",
       " ('use', 1),\n",
       " ('<a', 1),\n",
       " ('href=\"https://engineering.tamu.edu/media/1381416/PlotterPrintingForm2014Editable.pdf\">this',\n",
       "  1),\n",
       " ('printer', 1),\n",
       " ('form</a>', 1),\n",
       " ('want', 1),\n",
       " ('me', 1),\n",
       " ('pay', 1),\n",
       " ('posterboards', 1),\n",
       " ('easels', 1),\n",
       " ('set', 1),\n",
       " ('up', 1),\n",
       " ('classroom.', 1),\n",
       " ('<p>Be', 1),\n",
       " ('highlight', 1),\n",
       " ('innovations,', 1),\n",
       " ('findings,', 1),\n",
       " ('takeaways.', 1),\n",
       " ('Impress', 1),\n",
       " ('us!', 1),\n",
       " ('This', 1),\n",
       " ('chance.', 1),\n",
       " ('report</h4>', 1),\n",
       " ('team', 1),\n",
       " ('write', 1),\n",
       " ('brief', 1),\n",
       " ('(4-6', 1),\n",
       " ('pages', 1),\n",
       " ('ACM', 1),\n",
       " ('format)', 1),\n",
       " ('summarizing', 1),\n",
       " ('proposal,', 1),\n",
       " ('but', 1),\n",
       " ('actual', 1),\n",
       " ('things', 1),\n",
       " ('actually', 1),\n",
       " ('done:', 1),\n",
       " ('<li>Introduction', 1),\n",
       " ('background', 1),\n",
       " ('motivation', 1),\n",
       " ('Why', 1),\n",
       " ('important?', 1),\n",
       " ('<li>Related', 1),\n",
       " ('there?', 1),\n",
       " ('Include', 1),\n",
       " ('links.', 1),\n",
       " ('difference', 1),\n",
       " ('propose?', 1),\n",
       " ('<li>Proposed', 1),\n",
       " ('methods', 1),\n",
       " ('give', 1),\n",
       " ('us', 1),\n",
       " ('details', 1),\n",
       " ('done.', 1),\n",
       " ('<li>Evaluation', 1),\n",
       " ('analysis', 1),\n",
       " ('results', 1),\n",
       " ('did', 1),\n",
       " ('discover?', 1),\n",
       " ('<li>Conclusions', 1),\n",
       " ('was', 1),\n",
       " ('challenging', 1),\n",
       " ('project?', 1),\n",
       " ('next?', 1),\n",
       " ('open', 1),\n",
       " ('issues?', 1),\n",
       " ('When', 1),\n",
       " ('also', 1),\n",
       " ('include:', 1),\n",
       " ('repository.', 1),\n",
       " ('<li>The', 1),\n",
       " ('data', 1),\n",
       " ('(raw', 1),\n",
       " ('possibly', 1),\n",
       " ('link', 1),\n",
       " ('cloud', 1),\n",
       " ('storage', 1),\n",
       " ('provider).', 1),\n",
       " ('(PDF', 1),\n",
       " ('similar).', 1),\n",
       " ('<P>', 1),\n",
       " ('</body>', 1),\n",
       " ('</html>', 1)]"
      ]
     },
     "execution_count": 20,
     "metadata": {},
     "output_type": "execute_result"
    }
   ],
   "source": [
    "# your code here\n",
    "from collections import defaultdict\n",
    "\n",
    "s = mystr.split()\n",
    "wf = []\n",
    "for w in s:\n",
    "    wf.append(s.count(w))\n",
    "\n",
    "d = dict(zip(s, wf))\n",
    "\n",
    "#print(\"String\\n\" + wordstring +\"\\n\")\n",
    "#print(\"List\\n\" + str(wordlist) + \"\\n\")\n",
    "#print(\"Frequencies\\n\" + str(wordfreq) + \"\\n\")\n",
    "#print(\"Pairs\\n\" + str(d))\n",
    "\n",
    "#print(\"\\n\")\n",
    "#for w in sorted(d, key=d.get, reverse=True):\n",
    "#  print(w, d[w])\n",
    "\n",
    "sorted(d.items(), key=lambda x: x[1], reverse=True)"
   ]
  }
 ],
 "metadata": {
  "anaconda-cloud": {},
  "kernelspec": {
   "display_name": "Python 3",
   "language": "python",
   "name": "python3"
  },
  "language_info": {
   "codemirror_mode": {
    "name": "ipython",
    "version": 3
   },
   "file_extension": ".py",
   "mimetype": "text/x-python",
   "name": "python",
   "nbconvert_exporter": "python",
   "pygments_lexer": "ipython3",
   "version": "3.7.2"
  }
 },
 "nbformat": 4,
 "nbformat_minor": 1
}

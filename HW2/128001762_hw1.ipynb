{
 "cells": [
  {
   "cell_type": "markdown",
   "metadata": {},
   "source": [
    "#### CSCE 670 :: Information Storage and Retrieval :: Texas A&M University :: Spring 2019\n",
    "\n",
    "\n",
    "# Homework 1:  Modeling Text + Link Analysis + SEO\n",
    "\n",
    "### 100 points [6% of your final grade]\n",
    "\n",
    "### Due: Monday, February 8, 2019 by 11:59pm\n",
    "\n",
    "*Goals of this homework:* Understand the vector space model (TF-IDF, cosine) + BM25 works in searching. Explore real-world challenges of building a graph (in this case, from Epinions), implement and test the classic HITS algorithm over this graph. Experiment with real-world search engine optimization techniques.\n",
    "\n",
    "*Submission instructions (eCampus):* To submit your homework, rename this notebook as `UIN_hw1.ipynb`. For example, my homework submission would be something like `555001234_hw1.ipynb`. Submit this notebook via eCampus (look for the homework 1 assignment there). Your notebook should be completely self-contained, with the results visible in the notebook. We should not have to run any code from the command line, nor should we have to run your code within the notebook (though we reserve the right to do so). So please run all the cells for us, and then submit.\n",
    "\n",
    "*Late submission policy:* For this homework, you may use as many late days as you like (up to the 5 total allotted to you).\n",
    "\n",
    "*Collaboration policy:* You are expected to complete each homework independently. Your solution should be written by you without the direct aid or help of anyone else. However, we believe that collaboration and team work are important for facilitating learning, so we encourage you to discuss problems and general problem approaches (but not actual solutions) with your classmates. You may post on Piazza, search StackOverflow, etc. But if you do get help in this way, you must inform us by **filling out the Collaboration Declarations at the bottom of this notebook**. \n",
    "\n",
    "*Example: I found helpful code on stackoverflow at https://stackoverflow.com/questions/11764539/writing-fizzbuzz that helped me solve Problem 2.*\n",
    "\n",
    "The basic rule is that no student should explicitly share a solution with another student (and thereby circumvent the basic learning process), but it is okay to share general approaches, directions, and so on. If you feel like you have an issue that needs clarification, feel free to contact either me or the TA."
   ]
  },
  {
   "cell_type": "markdown",
   "metadata": {},
   "source": [
    "# Part 1: Modeling Text (50 points)"
   ]
  },
  {
   "cell_type": "markdown",
   "metadata": {},
   "source": [
    "### TF-IDF\n",
    "\n",
    "\n",
    "First, you will need to download the review.json file from the Resources tab on Piazza, a collection of about 7,000 Yelp reviews we sampled from the [Yelp Dataset Challenge](https://www.yelp.com/dataset_challenge). You'll see that each line corresponds to a review on a particular business. Each review has a unique \"ID\" and the text content is in the \"review\" field. You need to load the json file first. We already have done some basic preprocessing on the reviews, so you can just tokenize each review using whitespace."
   ]
  },
  {
   "cell_type": "markdown",
   "metadata": {},
   "source": [
    "Here you can treat each review as a document. Given a query, you need to calculate its TF-IDF score in each review.  For this homework, we will define the TF-IDF as follows:"
   ]
  },
  {
   "cell_type": "markdown",
   "metadata": {},
   "source": [
    "`TF = number of times word occurs in a document`\n",
    "\n",
    "`IDF = log(total number of documents / number of documents containing the word)`"
   ]
  },
  {
   "cell_type": "markdown",
   "metadata": {},
   "source": [
    "### A) Ranking with simple sums of TF-IDF scores\n",
    "\n",
    "To start out with, for a multi-word query, we will rank documents by a simple sum of the TF-IDF scores for the query terms in the document. \n",
    "\n",
    "Please calculate this TF-IDF sum score for queries `\"best bbq\"` and `\"kid fun and food\"`. You need to report the Top-10 reviews with highest TF-IDF scores for each query. Your output should look like this:"
   ]
  },
  {
   "cell_type": "markdown",
   "metadata": {},
   "source": [
    "Query \"best bbq\"\n",
    "\n",
    "Rank Review_ID score\n",
    "\n",
    "1 dhskfhjskfhs 0.55555\n",
    "\n",
    "...\n",
    "\n",
    "\n",
    "\n",
    "Query \"kid fun and food\"\n",
    "\n",
    "Rank Review_ID score\n",
    "\n",
    "1 dhskfhjskfhs 0.55555\n",
    "\n",
    "..."
   ]
  },
  {
   "cell_type": "code",
   "execution_count": 9,
   "metadata": {},
   "outputs": [],
   "source": [
    "# Your code here\n",
    "import json\n",
    "import numpy as np\n",
    "from collections import defaultdict\n",
    "from tabulate import tabulate\n",
    "\n",
    "data = []\n",
    "with open('review.json') as f:\n",
    "    for line in f:\n",
    "        data.append(json.loads(line))"
   ]
  },
  {
   "cell_type": "code",
   "execution_count": 10,
   "metadata": {},
   "outputs": [],
   "source": [
    "def create_freq_pairs(data):\n",
    "    freq_list = {}\n",
    "    for entries in data:\n",
    "        freq_dict = defaultdict(lambda:0)\n",
    "        for word in entries[\"review\"].split():\n",
    "            freq_dict[word] += 1\n",
    "        freq_list[entries[\"id\"]] = freq_dict\n",
    "    return freq_list\n",
    "\n",
    "def computeDf(data):\n",
    "    df = defaultdict(lambda:0)\n",
    "    for entry in data:\n",
    "        for word in set(entry[\"review\"].split()):\n",
    "            df[word] += 1\n",
    "    return df\n",
    "\n",
    "def computeTfidf(words):\n",
    "    docTfIdfScore = defaultdict(lambda:0)\n",
    "    for document in freq_list:\n",
    "        for word in words:\n",
    "            tf_score = freq_list[document][word]\n",
    "            idf_score = np.log10(numberOfDocs / idf_list[word])\n",
    "            docTfIdfScore[document] += tf_score * idf_score\n",
    "    return docTfIdfScore\n",
    "\n",
    "def normScore():\n",
    "    docTfIdfScore = defaultdict(lambda:0)\n",
    "    for document in freq_list:\n",
    "        for word in freq_list[document]:\n",
    "            tf_score = freq_list[document][word]\n",
    "            idf_score = np.log10(numberOfDocs / idf_list[word])\n",
    "            docTfIdfScore[document] += (tf_score * idf_score) ** 2\n",
    "        docTfIdfScore[document] = np.sqrt(docTfIdfScore[document])\n",
    "    return docTfIdfScore\n"
   ]
  },
  {
   "cell_type": "code",
   "execution_count": 11,
   "metadata": {},
   "outputs": [],
   "source": [
    "freq_list = create_freq_pairs(data)"
   ]
  },
  {
   "cell_type": "code",
   "execution_count": 12,
   "metadata": {},
   "outputs": [],
   "source": [
    "idf_list = computeDf(data)"
   ]
  },
  {
   "cell_type": "code",
   "execution_count": 13,
   "metadata": {},
   "outputs": [],
   "source": [
    "numberOfDocs = len(freq_list)"
   ]
  },
  {
   "cell_type": "code",
   "execution_count": 14,
   "metadata": {},
   "outputs": [],
   "source": [
    "norm_list = normScore()"
   ]
  },
  {
   "cell_type": "code",
   "execution_count": 15,
   "metadata": {},
   "outputs": [
    {
     "name": "stdout",
     "output_type": "stream",
     "text": [
      "+--------+------------------------+----------+\n",
      "|   Rank | Review_ID              |    score |\n",
      "|--------+------------------------+----------|\n",
      "|      1 | YbQvHNrjZJ38mnh5rLuq7w | 11.4305  |\n",
      "|      2 | P31kXP4oan6ZQm69TN6tIA |  9.52544 |\n",
      "|      3 | x5esEK6J9XkA_vbvVbG8Gg |  8.47154 |\n",
      "|      4 | mWs26TrBM7ogwCM9UfVJFg |  7.62036 |\n",
      "|      5 | NCfX4AxDvQ3QRyXKtmhVwQ |  7.62036 |\n",
      "|      6 | e5INq6DAZn2zMHicKQl07Q |  6.56645 |\n",
      "|      7 | 4WTG1-9mw8YHEyaTu8dQww |  6.56645 |\n",
      "|      8 | x3n_l3GhBx78y6jWX4fStg |  5.95831 |\n",
      "|      9 | Wp8jYXL1DQrgrnZIFmufFg |  5.71527 |\n",
      "|     10 | jrEx93eYKIjCW2nrkwjZpQ |  5.71527 |\n",
      "+--------+------------------------+----------+\n"
     ]
    }
   ],
   "source": [
    "# Show us the result for \"best bbq\"\n",
    "\n",
    "words=['best','bbq']\n",
    "k = computeTfidf(words)\n",
    "ans = sorted(k.items(), key=lambda x: x[1], reverse=True)\n",
    "print(tabulate(ans[:10], headers=['Rank', 'Review_ID', 'score'], showindex=range(1, 11), tablefmt='psql'))"
   ]
  },
  {
   "cell_type": "code",
   "execution_count": 16,
   "metadata": {},
   "outputs": [
    {
     "name": "stdout",
     "output_type": "stream",
     "text": [
      "+--------+------------------------+---------+\n",
      "|   Rank | Review_ID              |   score |\n",
      "|--------+------------------------+---------|\n",
      "|      1 | 7o_hciiXEMNQkXfVl0F0XQ | 9.64187 |\n",
      "|      2 | JKLUXUovJCU6kbcdin74NQ | 8.69201 |\n",
      "|      3 | IA8TOfGKI-Il-70BsB6HgA | 8.13237 |\n",
      "|      4 | Kytq1NbFIDDCXUculSqT8g | 7.29126 |\n",
      "|      5 | MF6rPRx9jz-g8S5P_ZIdyg | 7.08005 |\n",
      "|      6 | bjoedmJ4_DZP5JnfXVaC-w | 6.82548 |\n",
      "|      7 | I00B-QG5uTKvwCK7x9ejeA | 6.80216 |\n",
      "|      8 | BVGRJgDJGEhSfgIPCan7vQ | 6.7216  |\n",
      "|      9 | wMB3cI3-xhxM_BpmppY9RQ | 6.4252  |\n",
      "|     10 | vTGDEQGp6EPlwdMJUnTb7A | 6.04147 |\n",
      "+--------+------------------------+---------+\n"
     ]
    }
   ],
   "source": [
    "# Show us the result for \"kid fun and food\"\n",
    "\n",
    "words=['kid','fun','and','food']\n",
    "k = computeTfidf(words)\n",
    "ans = sorted(k.items(), key=lambda x: x[1], reverse=True)\n",
    "print(tabulate(ans[:10], headers=['Rank', 'Review_ID', 'score'], showindex=range(1, 11), tablefmt='psql'))\n"
   ]
  },
  {
   "cell_type": "markdown",
   "metadata": {},
   "source": [
    "### B) Ranking with TF-IDF + Cosine\n",
    "\n",
    "Instead of using the sum of TF-IDF scores, let's try the classic cosine approach for ranking. You should still use the TF-IDF scores to weigh each term, but now use the cosine between the query vector and the document vector to assign a similarity score. You can try the same two queries as before and report the results. (Top-10 reviews which are similar to the query)"
   ]
  },
  {
   "cell_type": "code",
   "execution_count": 17,
   "metadata": {},
   "outputs": [],
   "source": [
    "# Your code here\n",
    "def computeCosine(words):\n",
    "    docTfIdfScore = defaultdict(lambda:0)\n",
    "    score = 0\n",
    "    for document in freq_list:\n",
    "        for word in words:\n",
    "            tf_score = freq_list[document][word]\n",
    "            idf_score = np.log10(numberOfDocs / idf_list[word])\n",
    "            docTfIdfScore[document] += tf_score * idf_score\n",
    "        docTfIdfScore[document] /= (norm_list[document] * np.sqrt(len(words)))\n",
    "    return docTfIdfScore"
   ]
  },
  {
   "cell_type": "code",
   "execution_count": 18,
   "metadata": {},
   "outputs": [
    {
     "name": "stdout",
     "output_type": "stream",
     "text": [
      "+--------+------------------------+----------+\n",
      "|   Rank | Review_ID              |    score |\n",
      "|--------+------------------------+----------|\n",
      "|      1 | 6wRJtHhvQsS6vOse466_3w | 0.534528 |\n",
      "|      2 | x5esEK6J9XkA_vbvVbG8Gg | 0.436045 |\n",
      "|      3 | eAXFFP3GxUfGjQlAZDB_CQ | 0.422552 |\n",
      "|      4 | 7LaBODDEaUNRpLPDG_bKtQ | 0.400045 |\n",
      "|      5 | P31kXP4oan6ZQm69TN6tIA | 0.357718 |\n",
      "|      6 | ZAn6zB6VOCsJ1OsGRv-NVA | 0.354595 |\n",
      "|      7 | 8p-KEtrrTmLv-o1mKpUy1A | 0.339974 |\n",
      "|      8 | RHWT1KVeIw2FT7i5BP_TVw | 0.316053 |\n",
      "|      9 | _fNfowXaxXcYChKukMrYeg | 0.308231 |\n",
      "|     10 | AEiNkWY-4ggToDeMTd8l1w | 0.299093 |\n",
      "+--------+------------------------+----------+\n"
     ]
    }
   ],
   "source": [
    "# Show us the result for \"best bbq\"\n",
    "\n",
    "words=['best','bbq']\n",
    "k = computeCosine(words)\n",
    "ans = sorted(k.items(), key=lambda x: x[1], reverse=True)\n",
    "print(tabulate(ans[:10], headers=['Rank', 'Review_ID', 'score'], showindex=range(1, 11), tablefmt='psql'))"
   ]
  },
  {
   "cell_type": "code",
   "execution_count": 19,
   "metadata": {},
   "outputs": [
    {
     "name": "stdout",
     "output_type": "stream",
     "text": [
      "+--------+------------------------+----------+\n",
      "|   Rank | Review_ID              |    score |\n",
      "|--------+------------------------+----------|\n",
      "|      1 | IUME6cWFSwH1mSh_1_U81g | 0.386781 |\n",
      "|      2 | ag1fnnEmc2yernTW2ur2eg | 0.318408 |\n",
      "|      3 | OExraycGW4VxL0Xth1xZ4w | 0.282333 |\n",
      "|      4 | 37RfMeDMo8QEVAF8yT31Ww | 0.204129 |\n",
      "|      5 | x72i0s6q84ouimza6Y3HSQ | 0.197345 |\n",
      "|      6 | 6xdziQ46TZWKBpKQPNCSGw | 0.185966 |\n",
      "|      7 | Pp0h1AxxHpTU-ylBt2mldQ | 0.17287  |\n",
      "|      8 | 1HshwJX7afs-CKdczFbI5g | 0.172034 |\n",
      "|      9 | a2xfP0RpJAhioxUUHCX6QQ | 0.170944 |\n",
      "|     10 | _AXfMxnvGx6a4L_ZgPCMKA | 0.167726 |\n",
      "+--------+------------------------+----------+\n"
     ]
    }
   ],
   "source": [
    "# Show us the result for \"kid fun and food\"\n",
    "\n",
    "words=['kid','fun','and','food']\n",
    "k = computeCosine(words)\n",
    "ans = sorted(k.items(), key=lambda x: x[1], reverse=True)\n",
    "print(tabulate(ans[:10], headers=['Rank', 'Review_ID', 'score'], showindex=range(1, 11), tablefmt='psql'))"
   ]
  },
  {
   "cell_type": "code",
   "execution_count": 20,
   "metadata": {},
   "outputs": [],
   "source": [
    "def averageDL():\n",
    "    score = 0\n",
    "    for document in freq_list:\n",
    "        score += sum(freq_list[document].values())\n",
    "    return float(score/numberOfDocs)\n",
    "\n",
    "average_dl = averageDL()"
   ]
  },
  {
   "cell_type": "markdown",
   "metadata": {},
   "source": [
    "### C) Ranking with BM25\n",
    "\n",
    "Finally, let's try the BM25 approach for ranking. Refer to [https://en.wikipedia.org/wiki/Okapi_BM25](https://en.wikipedia.org/wiki/Okapi_BM25) for the specific formula. You should choose k_1 = 1.2 and b = 0.75. You need to report the Top-10 reviews with highest BM25 scores for each query.\n"
   ]
  },
  {
   "cell_type": "code",
   "execution_count": 21,
   "metadata": {},
   "outputs": [],
   "source": [
    "# Your code here\n",
    "\n",
    "def computeBM25(words, k_1, b):\n",
    "    docTfIdfScore = defaultdict(lambda:0)\n",
    "    for document in freq_list:\n",
    "        score = 0\n",
    "        for word in words:\n",
    "            tf_score = freq_list[document][word]\n",
    "            idf_score = np.log10(numberOfDocs / idf_list[word])\n",
    "            t1 = (sum(freq_list[document].values())/average_dl)\n",
    "            t2 = (tf_score + k_1 * (1 - b + (b * t1)))\n",
    "            t3 = (((tf_score) * (k_1+1))/ t2)\n",
    "            score += idf_score * t3\n",
    "        docTfIdfScore[document] = score\n",
    "    return docTfIdfScore\n"
   ]
  },
  {
   "cell_type": "code",
   "execution_count": 22,
   "metadata": {},
   "outputs": [
    {
     "name": "stdout",
     "output_type": "stream",
     "text": [
      "+--------+------------------------+---------+\n",
      "|   Rank | Review_ID              |   score |\n",
      "|--------+------------------------+---------|\n",
      "|      1 | x5esEK6J9XkA_vbvVbG8Gg | 4.22215 |\n",
      "|      2 | xpm6TgDiHaQdEDlErFsqvQ | 4.08893 |\n",
      "|      3 | 4WTG1-9mw8YHEyaTu8dQww | 3.89103 |\n",
      "|      4 | e5INq6DAZn2zMHicKQl07Q | 3.73167 |\n",
      "|      5 | GASAd_gPBY_eWIL9XJwuNA | 3.46422 |\n",
      "|      6 | P31kXP4oan6ZQm69TN6tIA | 3.42227 |\n",
      "|      7 | 8p-KEtrrTmLv-o1mKpUy1A | 3.30912 |\n",
      "|      8 | HzNxErSCQ2FYfPCbyfHrSQ | 3.22948 |\n",
      "|      9 | -RApX_RMzJLnpommDpQfKQ | 3.2041  |\n",
      "|     10 | 1tJ_iJX_KZ3zM_9_GRaGTg | 3.12396 |\n",
      "+--------+------------------------+---------+\n"
     ]
    }
   ],
   "source": [
    "# Show us the result for \"best bbq\"\n",
    "\n",
    "words=['best','bbq']\n",
    "k = computeBM25(words, 1.2, 0.75)\n",
    "ans = sorted(k.items(), key=lambda x: x[1], reverse=True)\n",
    "print(tabulate(ans[:10], headers=['Rank', 'Review_ID', 'score'], showindex=range(1, 11), tablefmt='psql'))\n"
   ]
  },
  {
   "cell_type": "code",
   "execution_count": 23,
   "metadata": {},
   "outputs": [
    {
     "name": "stdout",
     "output_type": "stream",
     "text": [
      "+--------+------------------------+---------+\n",
      "|   Rank | Review_ID              |   score |\n",
      "|--------+------------------------+---------|\n",
      "|      1 | kDwMMrSiB_AlV0erhVigFg | 3.44034 |\n",
      "|      2 | 6xdziQ46TZWKBpKQPNCSGw | 3.0546  |\n",
      "|      3 | UMqvuRtTxJFuWbgT6qO9cg | 3.0237  |\n",
      "|      4 | TVq6HhhJizKM1mReF9hvJQ | 3.01334 |\n",
      "|      5 | OExraycGW4VxL0Xth1xZ4w | 3.01236 |\n",
      "|      6 | nuKIKXuQ51eRywuCcoX3fQ | 2.98152 |\n",
      "|      7 | k7HxGMgabFxDUi2XWZ_hOg | 2.97963 |\n",
      "|      8 | JKLUXUovJCU6kbcdin74NQ | 2.9614  |\n",
      "|      9 | EDQzFQ7yYbRVUWCNA4rTOQ | 2.95532 |\n",
      "|     10 | BLQYsPFFAezpbbF-1dzD4Q | 2.94553 |\n",
      "+--------+------------------------+---------+\n"
     ]
    }
   ],
   "source": [
    "# Show us the result for \"kid fun and food\"\n",
    "words=['kid','fun','and','food']\n",
    "k = computeBM25(words, 1.2, 0.75)\n",
    "ans = sorted(k.items(), key=lambda x: x[1], reverse=True)\n",
    "print(tabulate(ans[:10], headers=['Rank', 'Review_ID', 'score'], showindex=range(1, 11), tablefmt='psql'))"
   ]
  },
  {
   "cell_type": "markdown",
   "metadata": {},
   "source": [
    "Briefly discuss the differences you see between the three methods. Is there one you prefer? "
   ]
  },
  {
   "cell_type": "markdown",
   "metadata": {},
   "source": [
    "\n",
    "TF-IDF gives us a representation for a given term in a document. Cosine similarity will give you a score for two different documents that share the same representation. Cosine similarity will give you a score for two different documents that share the same representation. BM25 is a method used to rank matching documents according to their relevance to a given search query.\n",
    "\n",
    "I would prefer BM25 because of two reasons:\n",
    "1) It overcomes the disadvantages of both TF-IDF method and cosine similarity method by considering all the factors such as avg(dl) and tf-idf and also by introducing a parameter - k1.\n",
    "2) Not only on our dataset, BM25 till date performs on par with all the neural models out there, which is very impressive.\n"
   ]
  },
  {
   "cell_type": "markdown",
   "metadata": {},
   "source": [
    "# Part 2: Link Analysis (40 points)"
   ]
  },
  {
   "cell_type": "markdown",
   "metadata": {},
   "source": [
    "## A Trust Graph\n",
    "\n",
    "\n",
    "In this part, we're going to adapt the classic HITS approach to allow us to find not the most authoritative web pages, but rather to find the most trustworthy users. [Epinions.com](https://snap.stanford.edu/data/soc-Epinions1.html) is a general consumer review site with a who-trust-whom online social network. Members of the site can decide whether to ''trust'' each other. All the trust relationships interact and form the Web of Trust which is then combined with review ratings to determine which reviews are shown to the user. (Refer to: Richardson, Matthew, Rakesh Agrawal, and Pedro Domingos. \"Trust management for the semantic web.\" International semantic Web conference. Springer, Berlin, Heidelberg, 2003.)\n",
    "\n",
    "So, instead of viewing the world as web pages with hyperlinks (where pages = nodes, hyperlinks = edges), we're going to construct a graph of Epinions users and their \"trust\" on other users (so user = node, trust behavior = edge). Over this Epinions-user graph, we can apply the HITS approach to order the users by their hub-ness and their authority-ness.\n",
    "\n",
    "You need to download the *Epinions_trust.txt* file from the Resources tab on Piazza. Each line represents the trust relationship between two users. Here is a toy example. Suppose you are given the following four lines:\n",
    "\n",
    "* diane trust bob\n",
    "* charlie trust bob \n",
    "* charlie trust alice\n",
    "* bob trust charlie\n",
    "\n",
    "The \"trust\" between each user pair denotes a directed edge between two nodes. E.g., the \"diane\" node has a directed edge to the \"bob\" node (as indicated by the first line). \n",
    "\n",
    "You should build a graph by parsing the data in the file we provide called *Epinions_trust.txt*. (Note: The edges are binary and directed.)\n",
    "\n",
    "**Notes:**\n",
    "\n",
    "* The edges are binary and directed.\n",
    "* User can't trust himself/herself.\n",
    "* Later you will need to implement the HITS algorithm on the graph you build here."
   ]
  },
  {
   "cell_type": "code",
   "execution_count": 24,
   "metadata": {},
   "outputs": [],
   "source": [
    "# Here define your function for building the graph \n",
    "# by parsing the input file \n",
    "# Insert as many cells as you want\n",
    "import numpy as np\n",
    "from tabulate import tabulate"
   ]
  },
  {
   "cell_type": "code",
   "execution_count": 25,
   "metadata": {},
   "outputs": [],
   "source": [
    "def buildGraph():\n",
    "    trustRelation = []\n",
    "    trustFileObject = open(\"Epinions_trust.txt\",\"r\")\n",
    "    lines = trustFileObject.readlines()\n",
    "    for line in lines:\n",
    "        temp = [line.split()[0], line.split()[2]]\n",
    "        trustRelation.append(temp)\n",
    "\n",
    "    matrix = np.array(trustRelation)\n",
    "    nodes = np.unique(matrix)\n",
    "    noidx = {n: i for i, n in enumerate(nodes)}\n",
    "    n = nodes.size\n",
    "    numdata = np.vectorize(noidx.get)(matrix)\n",
    "\n",
    "    edges = 0\n",
    "    graph = np.zeros((n, n))\n",
    "    for tail, head in numdata:\n",
    "        edges = edges + 1\n",
    "        graph[tail, head] = 1\n",
    "    return graph, n, edges, nodes"
   ]
  },
  {
   "cell_type": "code",
   "execution_count": 26,
   "metadata": {},
   "outputs": [],
   "source": [
    "def calculateHubsAndAuthorities(graph, n, nodes):\n",
    "    hubs = np.ones(n, dtype=int)\n",
    "    hubs = np.transpose(hubs)\n",
    "\n",
    "    for i in range(20):\n",
    "        authority = np.transpose(graph).dot(hubs)\n",
    "        authority = authority / np.linalg.norm(authority)\n",
    "        hubs = graph.dot(authority)\n",
    "        hubs = hubs / np.linalg.norm(hubs)\n",
    "\n",
    "    hubScores = dict(zip(nodes, hubs))\n",
    "    authScores = dict(zip(nodes, authority))\n",
    "    return hubScores, authScores"
   ]
  },
  {
   "cell_type": "code",
   "execution_count": 27,
   "metadata": {},
   "outputs": [],
   "source": [
    "def printTopKHubAndAuthorities(hubScores, authScores, k):\n",
    "    print(\"\\n----------------- HUB SCORES -----------------------\\n\")\n",
    "    ans = sorted(hubScores.items(), key=lambda x: x[1], reverse=True)\n",
    "    print(tabulate(ans[:10], headers=['Rank', 'User', 'score'], showindex=range(1, 11), tablefmt='psql', floatfmt=\".6f\"))\n",
    "    print(\"\\n----------------- AUTHORITY SCORES ----------------------\\n\")\n",
    "    ans = sorted(authScores.items(), key=lambda x: x[1], reverse=True)\n",
    "    print(tabulate(ans[:10], headers=['Rank', 'User', 'score'], showindex=range(1, 11), tablefmt='psql', floatfmt=\".6f\"))\n"
   ]
  },
  {
   "cell_type": "code",
   "execution_count": 28,
   "metadata": {},
   "outputs": [],
   "source": [
    "def printNodesAndEdges():\n",
    "    print(\"{} : {}\".format(\"Number of nodes is\", n))\n",
    "    print(\"{} : {}\".format(\"Number of edges is\", edges))"
   ]
  },
  {
   "cell_type": "code",
   "execution_count": 29,
   "metadata": {},
   "outputs": [],
   "source": [
    "graph,n,edges, nodes = buildGraph()"
   ]
  },
  {
   "cell_type": "code",
   "execution_count": 30,
   "metadata": {},
   "outputs": [],
   "source": [
    "hubScores, authScores = calculateHubsAndAuthorities(graph, n, nodes)"
   ]
  },
  {
   "cell_type": "code",
   "execution_count": 31,
   "metadata": {},
   "outputs": [
    {
     "name": "stdout",
     "output_type": "stream",
     "text": [
      "\n",
      "----------------- HUB SCORES -----------------------\n",
      "\n",
      "+--------+--------------+----------+\n",
      "|   Rank | User         |    score |\n",
      "|--------+--------------+----------|\n",
      "|      1 | charles      | 0.180863 |\n",
      "|      2 | teanna3      | 0.177897 |\n",
      "|      3 | JediKermit   | 0.162883 |\n",
      "|      4 | melissasrn   | 0.154464 |\n",
      "|      5 | KCFemme      | 0.150313 |\n",
      "|      6 | missi31      | 0.142830 |\n",
      "|      7 | jeanniekerns | 0.142220 |\n",
      "|      8 | jag2112      | 0.141627 |\n",
      "|      9 | mrssmoopy    | 0.141370 |\n",
      "|     10 | briandalsmom | 0.138893 |\n",
      "+--------+--------------+----------+\n",
      "\n",
      "----------------- AUTHORITY SCORES ----------------------\n",
      "\n",
      "+--------+--------------+----------+\n",
      "|   Rank | User         |    score |\n",
      "|--------+--------------+----------|\n",
      "|      1 | melissasrn   | 0.305320 |\n",
      "|      2 | shantel575   | 0.238788 |\n",
      "|      3 | surferdude7  | 0.236129 |\n",
      "|      4 | sblaydes     | 0.191442 |\n",
      "|      5 | tiffer0220   | 0.188763 |\n",
      "|      6 | opinionated3 | 0.185606 |\n",
      "|      7 | patch3boys   | 0.159111 |\n",
      "|      8 | merlot       | 0.157164 |\n",
      "|      9 | pogomom      | 0.153570 |\n",
      "|     10 | chrisceb     | 0.145748 |\n",
      "+--------+--------------+----------+\n"
     ]
    }
   ],
   "source": [
    "printTopKHubAndAuthorities(hubScores, authScores, 10)"
   ]
  },
  {
   "cell_type": "markdown",
   "metadata": {},
   "source": [
    "Please show us the size of the graph, i.e., the number of nodes and edges\n"
   ]
  },
  {
   "cell_type": "code",
   "execution_count": 32,
   "metadata": {},
   "outputs": [
    {
     "name": "stdout",
     "output_type": "stream",
     "text": [
      "Number of nodes is : 658\n",
      "Number of edges is : 6392\n"
     ]
    }
   ],
   "source": [
    "# Call your function to print out the size of the graph\n",
    "# How you maintain the graph is totally up to you\n",
    "printNodesAndEdges()"
   ]
  },
  {
   "cell_type": "markdown",
   "metadata": {},
   "source": [
    "## HITS Implementation\n",
    "\n",
    "Your program will return the top 10 users with highest hub and authority scores. The **output** should be like:\n",
    "\n",
    "Hub Scores\n",
    "\n",
    "* user1 - score1\n",
    "* user2 - score2\n",
    "* ...\n",
    "* user10 - score10\n",
    "\n",
    "Authority Scores\n",
    "\n",
    "* user1 - score1\n",
    "* user2 - score2\n",
    "* ...\n",
    "* user10 - score10\n",
    "\n",
    "You should follow these **rules**:\n",
    "\n",
    "* Assume all nodes start out with equal scores.\n",
    "* It is up to you to decide when to terminate the HITS calculation.\n",
    "* There are HITS implementations out there on the web. However, remember, your code should be **your own**.\n",
    "\n",
    "\n",
    "**Hints**:\n",
    "* If you're using the matrix style approach, you should use [numpy.matrix](https://docs.scipy.org/doc/numpy/reference/generated/numpy.matrix.html).\n",
    "* Scipy is built on top of Numpy and has support for sparse matrices. You most likely will not need to use Scipy unless you'd like to try out their sparse matrices.\n",
    "* If you choose to use Numpy (and Scipy), please make sure your Anaconda environment include their latest versions.\n",
    "* Test your parsing and HITS calculations using a handful of trust relationships, before moving on to the entire file we provide.\n",
    "* We will evaluate the user ranks you provide as well as the quality of your code. So make sure that your code is clear and readable."
   ]
  },
  {
   "cell_type": "markdown",
   "metadata": {},
   "source": [
    "# Part 3: Search Engine Optimization (10 + 5 points)"
   ]
  },
  {
   "cell_type": "markdown",
   "metadata": {},
   "source": [
    "For this part, your goal is to put on your \"[search engine optimization](https://en.wikipedia.org/wiki/Search_engine_optimization)\" hat. Your job is to create a webpage that scores highest for the query: **sajfd hfafbjhd** --- two terms, lower case, no quote. As of today (Jan 24, 2019), there are no hits for this query on either Google or Bing. Based on our discussions of search engine ranking algorithms, you know that several factors may impact a page's rank. Your goal is to use this knowledge to promote your own page to the top of the list.\n",
    "\n",
    "What we're doing here is a form of [SEO contest](https://en.wikipedia.org/wiki/SEO_contest). While you have great latitude in how you approach this problem, you are not allowed to engage in any unethical or illegal behavior. Please read the discussion of \"white hat\" versus \"black hat\" SEO over at [Wikipedia](https://en.wikipedia.org/wiki/Search_engine_optimization).\n",
    "\n",
    "\n",
    "**Rules of the game:**\n",
    "\n",
    "* Somewhere in the page (possibly in the non-viewable source html) you must include your name or some other way for us to identify you.\n",
    "* Your target page may only be a TAMU student page, a page on your own webserver, a page on a standard blog platform (e.g., wordpress), or some other primarily user-controlled page\n",
    "* Your target page CAN NOT be a twitter account, a facebook page, a Yahoo Answers or similar page\n",
    "* No wikipedia vandalism\n",
    "* No yahoo/wiki answers questions\n",
    "* No comment spamming of blogs\n",
    "* If you have concerns/questions/clarifications, please post on Piazza and we will discuss\n",
    "\n",
    "For your homework turnin for this part, you should provide us the URL of your target page and a brief discussion (2-4 paragraphs) of the strategies you are using. We will issue the query and check the rankings at some undetermined time in the next couple of weeks. You might guess that major search engines take some time to discover and integrate new pages: if I were you, I'd get a target page up immediately.\n",
    "\n",
    "**Grading:**\n",
    "\n",
    "* 5 points for providing a valid URL\n",
    "* 5 points for a well-reasoned discussion of your strategy\n",
    "\n",
    "** Bonus: **\n",
    "* 1 point for your page appearing in the top-20 on Google or Bing\n",
    "* 1 more point for your page appearing in the top-10 on Google or Bing\n",
    "* 1 more point for your page appearing in the top-5 on Google or Bing\n",
    "* 2 more points for your page being ranked first by Google or Bing. And, a vigorous announcement in class, and a high-five for having the top result!"
   ]
  },
  {
   "cell_type": "markdown",
   "metadata": {},
   "source": [
    "What's the URL of your page?\n",
    "\n",
    "*ADD YOUR INPUT HERE*\n",
    "\n",
    "https://www.youtube.com/watch?v=Lfos-CemCic&t=79s\n",
    "\n",
    "http://pranaydhariwal.github.io\n",
    "\n",
    "https://medium.com/@pranaydhariwal07/sajfd-hfafbjhd-a-article-about-the-most-powerful-women-in-the-world-9cfa468c32d8"
   ]
  },
  {
   "cell_type": "markdown",
   "metadata": {},
   "source": [
    "What's your strategy? (2-4 paragraphs)\n",
    "\n",
    "The first thing I have made sure is to have quality content so that google search engine ranks my page above. On top of this I even added photos of famous celebrities on my blog so that I get more hits.\n",
    "\n",
    "Secondly, I made sure that the content which I wrote is in the news so that google search ranks it above.\n",
    "I used github, youtube and medium to create my web pages so that these are ranked higher, and also the time to load pages from this url is less so the ranking must be higher.\n",
    "\n",
    "Lastly, the youtube video which I mentioned above already had decent amount of hits on youtube, so I used that and renamed it to the string so that google finds it faster. \n",
    "\n",
    "In addition to this, I have added the youtube link in each the web pages mentioned above, to increase the authoritness of the youtube video.\n"
   ]
  },
  {
   "cell_type": "markdown",
   "metadata": {},
   "source": [
    "## Collaboration declarations"
   ]
  },
  {
   "cell_type": "markdown",
   "metadata": {},
   "source": [
    "*If you collaborated with anyone (see Collaboration policy at the top of this homework), you can put your collaboration declarations here.*"
   ]
  },
  {
   "cell_type": "code",
   "execution_count": null,
   "metadata": {},
   "outputs": [],
   "source": []
  }
 ],
 "metadata": {
  "kernelspec": {
   "display_name": "Python 3",
   "language": "python",
   "name": "python3"
  },
  "language_info": {
   "codemirror_mode": {
    "name": "ipython",
    "version": 3
   },
   "file_extension": ".py",
   "mimetype": "text/x-python",
   "name": "python",
   "nbconvert_exporter": "python",
   "pygments_lexer": "ipython3",
   "version": "3.7.2"
  }
 },
 "nbformat": 4,
 "nbformat_minor": 2
}
